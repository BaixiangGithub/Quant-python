{
 "cells": [
  {
   "cell_type": "markdown",
   "metadata": {},
   "source": [
    "# Hyper-ants: ants traveling in hyperspace\n",
    "\n",
    "An ant is at the origin in n-dimensional Euclidean space, and is about to traverse the edges of a hypercube with sides of \n",
    "unit length. At each vertex, the ant randomly chooses an edge, and moves to the next vertex. On average, how far will the ant\n",
    "travel until it reaches (1,1,....)?"
   ]
  },
  {
   "cell_type": "code",
   "execution_count": 18,
   "metadata": {},
   "outputs": [
    {
     "data": {
      "text/plain": [
       "{4: 922,\n",
       " 6: 947,\n",
       " 8: 836,\n",
       " 10: 718,\n",
       " 12: 708,\n",
       " 14: 614,\n",
       " 16: 563,\n",
       " 18: 478,\n",
       " 20: 422,\n",
       " 22: 403,\n",
       " 24: 316,\n",
       " 26: 299,\n",
       " 28: 273,\n",
       " 30: 243,\n",
       " 32: 239,\n",
       " 34: 198,\n",
       " 36: 180,\n",
       " 38: 182,\n",
       " 40: 147,\n",
       " 42: 115,\n",
       " 44: 129,\n",
       " 46: 104,\n",
       " 48: 95,\n",
       " 50: 90,\n",
       " 52: 76,\n",
       " 54: 69,\n",
       " 56: 76,\n",
       " 58: 58,\n",
       " 60: 51,\n",
       " 62: 45,\n",
       " 64: 34,\n",
       " 66: 26,\n",
       " 68: 32,\n",
       " 70: 37,\n",
       " 72: 37,\n",
       " 74: 25,\n",
       " 76: 22,\n",
       " 78: 25,\n",
       " 80: 20,\n",
       " 82: 13,\n",
       " 84: 17,\n",
       " 86: 15,\n",
       " 88: 11,\n",
       " 90: 11,\n",
       " 92: 13,\n",
       " 94: 7,\n",
       " 96: 8,\n",
       " 98: 7,\n",
       " 100: 8,\n",
       " 102: 5,\n",
       " 104: 2,\n",
       " 106: 5,\n",
       " 108: 3,\n",
       " 110: 1,\n",
       " 112: 3,\n",
       " 116: 4,\n",
       " 118: 1,\n",
       " 122: 1,\n",
       " 124: 1,\n",
       " 126: 2,\n",
       " 132: 2,\n",
       " 136: 1,\n",
       " 152: 1,\n",
       " 158: 2,\n",
       " 160: 1,\n",
       " 174: 1}"
      ]
     },
     "execution_count": 18,
     "metadata": {},
     "output_type": "execute_result"
    }
   ],
   "source": [
    "from random import randint\n",
    "\n",
    "def sum_workaround(vertex):\n",
    "    sum_=0\n",
    "    for coordinate in vertex:\n",
    "        sum_+=coordinate\n",
    "    return sum_\n",
    "\n",
    "def numberOfMoves (dimension):\n",
    "    #return the number of moves needed for\n",
    "    # one simulated trip by the ant\n",
    "    vertex = [0]*dimension\n",
    "    move_count = 0\n",
    "    while sum(vertex) < dimension:\n",
    "        axis_choice = randint(0,dimension-1)\n",
    "        vertex[axis_choice] = 1 - vertex[axis_choice]\n",
    "        move_count = move_count + 1\n",
    "    return move_count\n",
    "\n",
    "number_of_trials= 1000\n",
    "sum([numberOfMoves(2) for i in range(number_of_trials)])/number_of_trials\n",
    "\n",
    "number_of_trials = 10000\n",
    "trials = [numberOfMoves(4) for i in range(number_of_trials)]\n",
    "number_moves_count = {trial: 0 for trial in trials}\n",
    "\n",
    "for trial in trials:\n",
    "    number_moves_count[trial] += 1\n",
    "number_moves_count\n"
   ]
  },
  {
   "cell_type": "code",
   "execution_count": null,
   "metadata": {
    "collapsed": true
   },
   "outputs": [],
   "source": []
  }
 ],
 "metadata": {
  "kernelspec": {
   "display_name": "Python 3",
   "language": "python",
   "name": "python3"
  },
  "language_info": {
   "codemirror_mode": {
    "name": "ipython",
    "version": 3
   },
   "file_extension": ".py",
   "mimetype": "text/x-python",
   "name": "python",
   "nbconvert_exporter": "python",
   "pygments_lexer": "ipython3",
   "version": "3.6.1"
  }
 },
 "nbformat": 4,
 "nbformat_minor": 2
}
