{
 "cells": [
  {
   "cell_type": "markdown",
   "metadata": {
    "collapsed": true
   },
   "source": [
    "# Big Sorting\n",
    "\n",
    "Consider an array of numeric strings 'unsorted' , where each string is a positive number with anywhere from 1 to 10^6 digits. Sort the array's elements in non-decreasing (i.e., ascending) order of their real-world integer values and print each element of the sorted array on a new line.\n",
    "\n",
    "Input format:\n",
    "The first line contains an integer n, denoting the number of strings in 'unsorted'\n",
    "Each of the n lines contain a string of integers.\n",
    "\n",
    "Link of the problem in Hackerrank: https://www.hackerrank.com/challenges/big-sorting/problem"
   ]
  },
  {
   "cell_type": "code",
   "execution_count": null,
   "metadata": {
    "collapsed": true
   },
   "outputs": [],
   "source": [
    "import sys\n",
    "n = int(input().strip())\n",
    "numlist = {} # Dictionary 'numlist' stores integer of strings in terms of number of digits.\n",
    "m=0\n",
    "for m in range(n):\n",
    "    unsorted_t = input().strip()\n",
    "    #unsorted.append(unsorted_t)\n",
    "    length = len(unsorted_t)\n",
    "    if length not in numlist:\n",
    "        numlist[length]=[]\n",
    "        \n",
    "    numlist[length].append(unsorted_t)\n",
    "\n",
    "for key in sorted(numlist):\n",
    "    for value in sorted(numlist[key]): # Sort the 'numlist' of every number of digits before the print statement.  \n",
    "        print(value)"
   ]
  },
  {
   "cell_type": "markdown",
   "metadata": {},
   "source": [
    "# Closest Numbers\n",
    "Sorting is often useful as the first step in many different tasks. The most common task is to make finding things easier, but there are other uses, as well.\n",
    "\n",
    "Challenge\n",
    "Given a list of unsorted integers, A={a1,a2,...,aN}, can you find the pair of elements that have the smallest absolute difference between them? If there are multiple pairs, find them all.\n",
    "\n",
    "Input Format \n",
    "The first line of input contains a single integer,N,representing the length of array A. \n",
    "In the second line, there are  space-separated integers, a1,a2,...,aN, representing the elements of array A.\n",
    "\n"
   ]
  },
  {
   "cell_type": "code",
   "execution_count": null,
   "metadata": {
    "collapsed": true
   },
   "outputs": [],
   "source": [
    "import sys\n",
    "num =sys.stdin.readline().strip()\n",
    "n = int(num)\n",
    "numbers = [int(x) for x in sys.stdin.readline().split()]\n",
    "list1 = [] \n",
    "numbers = sorted(numbers)\n",
    "dif = 10*(numbers[1]-numbers[0])\n",
    "for i in range(n-1):\n",
    "        j=i+1\n",
    "        if (numbers[j]-numbers[i])<dif:\n",
    "            list1=[]\n",
    "            dif= numbers[j]-numbers[i]\n",
    "            list1.append(numbers[i])\n",
    "            list1.append(numbers[j])\n",
    "            \n",
    "        elif (numbers[j]-numbers[i])==dif:\n",
    "            list1.append(numbers[i])\n",
    "            list1.append(numbers[j])\n",
    "        # Delete all elements in list1 if the new pair has a smaller differnce than the previous one. \n",
    "        # If the differences are the same, then add the new pair. \n",
    "print(\" \".join(str(x) for x in list1))"
   ]
  },
  {
   "cell_type": "markdown",
   "metadata": {},
   "source": [
    "# Lily's Homework\n",
    "\n",
    "Whenever George asks Lily to hang out, she's busy doing homework. George wants to help her finish it faster, but he's in over his head! Can you help George understand Lily's homework so she can hang out with him?\n",
    "\n",
    "Consider an array of n distinct integers,A= [a0,a1,...,an-1]. George can swap any two elements of the array any number of times. An array is beautiful if the sum of |ai-ai-1| among 0<i<n is minimal possible (after, possibly, performing some swaps).\n",
    "\n",
    "Given the array A, find and print the minimum number of swaps that should be performed in order to make the array beautiful.\n",
    "\n",
    "Input Format:\n",
    "The first line contains a single integer,n, denoting the number of elements in the array A. \n",
    "The second line contains n space-separated integers describing the respective distinct values of a0,a1,...,an-1.\n",
    "\n",
    "Here is a link of the problem in Hackerran: https://www.hackerrank.com/challenges/lilys-homework\n",
    "\n",
    "\n",
    "\n"
   ]
  },
  {
   "cell_type": "code",
   "execution_count": null,
   "metadata": {
    "collapsed": true
   },
   "outputs": [],
   "source": [
    "def solution(a):\n",
    "    m = {} # m is a dictionary that records the positions of each element in A. \n",
    "    for i in range(len(a)):\n",
    "        m[a[i]] = i \n",
    "        \n",
    "    sorted_a = sorted(a)\n",
    "    ret = 0\n",
    "    \n",
    "    for i in range(len(a)):\n",
    "        if a[i] != sorted_a[i]:\n",
    "            ret +=1\n",
    "            ind_to_swap = m[ sorted_a[i] ] #'ind_to_swap' is the position of 'sorted_a[i]' in the original list a. \n",
    "            a[i],a[ind_to_swap] = sorted_a[i],a[i] \n",
    "    return ret\n",
    "\n",
    "raw_input()\n",
    "a = [int(i) for i in raw_input().split(' ')]\n",
    "\n",
    "asc=solution(list(a))\n",
    "desc=solution(list(reversed(a)))\n",
    "print min(asc,desc)"
   ]
  }
 ],
 "metadata": {
  "kernelspec": {
   "display_name": "Python 3",
   "language": "python",
   "name": "python3"
  },
  "language_info": {
   "codemirror_mode": {
    "name": "ipython",
    "version": 3
   },
   "file_extension": ".py",
   "mimetype": "text/x-python",
   "name": "python",
   "nbconvert_exporter": "python",
   "pygments_lexer": "ipython3",
   "version": "3.6.1"
  }
 },
 "nbformat": 4,
 "nbformat_minor": 2
}
