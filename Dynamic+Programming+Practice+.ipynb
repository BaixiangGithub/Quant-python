{
 "cells": [
  {
   "cell_type": "markdown",
   "metadata": {},
   "source": [
    "# The Coin Change Problem\n",
    "\n",
    "You have m types of coins available in infinite quantities where the value of each coin is given in the array \n",
    "C = [c0,c1,..,cm-1]. Can you determine the number of ways of making change for n units using the given types of coins? For example, if m = 4, and C = [8,3,1,2], we can make change for n = 3 units in three ways: {1,1,1}, {1,2} and {3}.\n",
    "\n",
    "Given n, m, and C, print the number of ways to make change for n units using any number of coins having the values given in C.\n",
    "\n",
    "Input Format:\n",
    "\n",
    "The first line contains two space-separated integers describing the respective values of n and m. \n",
    "The second line contains m space-separated integers describing the respective values of c0,c1,...,cm-1(the list of distinct coins available in infinite amounts).\n",
    "\n",
    "Output Format:\n",
    "\n",
    "Print a long integer denoting the number of ways we can get a sum of n from the given infinite supply of m types of coins.\n",
    "\n",
    "\n"
   ]
  },
  {
   "cell_type": "code",
   "execution_count": null,
   "metadata": {
    "collapsed": true
   },
   "outputs": [],
   "source": [
    "import sys\n",
    "n, m = input().strip().split(' ')\n",
    "n, m = [int(n), int(m)]\n",
    "c = list(map(int, input().strip().split(' ')))\n",
    "table = [[0 for y in range(m)] for y in range(n+1)]\n",
    "#table[i][j] denotes number of ways to get i using coins c0,c1...,cj\n",
    "for j in range(m):\n",
    "    table[0][j] = 1 # There is only one way to get 0 using coins we have. \n",
    "\n",
    "for i in range(1,n+1):\n",
    "    for j in range(0,m):\n",
    "        if j - 1 >= 0:\n",
    "            x_excludej = table[i][j-1] # Number of ways to get i using c0, c1,..,cj-1\n",
    "        else:\n",
    "            x_excludej = 0 # There is no way to get i from 0 coins. \n",
    "        if i - c[j] >= 0:\n",
    "            x_includej = table[i-c[j]][j] # Number of ways to get i using c0,c1..,cj\n",
    "        else:\n",
    "            x_includej = 0 # If the value of j+1th coin (cj) exceeds the current i, we cannot add cj to the list. \n",
    "        table[i][j] = x_excludej + x_includej \n",
    "print(table[n][m-1]) # Number of ways to use m coins (c0,...,cm-1) to get i=n. "
   ]
  },
  {
   "cell_type": "markdown",
   "metadata": {},
   "source": [
    "# Fair Cut\n",
    "\n",
    "Li and Lu have n integers a1,a2,...,an that they want to divide fairly between the two of them. They decide that if Li gets integers with indices I={i1,i2,...,ik} (which implies that Lu gets integers with indices J={1,...,n}\\I),then the measure of unfairness of this division is:\n",
    "        \n",
    "                        f(I) = sum(|ai-aj|), for all i in I & j in J\n",
    "\n",
    "Find the minimum measure of unfairness that can be obtained with some division of the set of integers where Li gets exactly k integers.\n",
    "\n",
    "Input Format: First line denotes the respective values of n and k. \n",
    "The second line denotes n integers a1,a2,...,an."
   ]
  },
  {
   "cell_type": "code",
   "execution_count": null,
   "metadata": {
    "collapsed": true
   },
   "outputs": [],
   "source": [
    "import sys\n",
    "[n,k] = [int(x) for x in sys.stdin.readline().split()]\n",
    "x = [int(y) for y in sys.stdin.readline().split()]\n",
    "x = sorted(x)\n",
    "dp = [[float('inf') for i in range(0,n+1)] for j in range(0,n+1)]\n",
    "dp[0][0]=0\n",
    "for i in range(n):\n",
    "    for j in range(0,i+1):\n",
    "        if j >k or i-j>n-k:\n",
    "            continue\n",
    "        # if number of elements in Li and Lu exceeds required elements, just skip the current loop. \n",
    "        Li = dp[i][j] + x[i]*(i-j) - x[i]*(n-k-(i-j))\n",
    "        # When adding x[i] to Li, x[i] needs to be subtracted by all elements in Lu. Since x is in ascending order, \n",
    "        # we should add x[i]*(i-j),where i-j is the current number of elements in Lu. At the same time, x[i] needs to be\n",
    "        # subtracted by all future elements in Lu as well. Since the future elements in Lu are greater than \n",
    "        # x[i], we will need to add -x[i]*(n-k-{i-j})\n",
    "        Lu = dp[i][j] + x[i]*(j) - x[i]*(k-j)\n",
    "        # Same reason applies to the case of adding a[]\n",
    "        if dp[i+1][j]> Lu:\n",
    "            dp[i+1][j] = Lu\n",
    "       \n",
    "        if dp[i+1][j+1] > Li:\n",
    "            dp[i+1][j+1] = Li\n",
    "         # Since dp[i+1][j] and dp[i+1][j+1] can be also derived from dp[i][j-1] and dp[i+1][j+1],\n",
    "         # we use if statements to help to select minimum value of the current state.\n",
    "print(dp[n][k])"
   ]
  }
 ],
 "metadata": {
  "kernelspec": {
   "display_name": "Python 3",
   "language": "python",
   "name": "python3"
  },
  "language_info": {
   "codemirror_mode": {
    "name": "ipython",
    "version": 3
   },
   "file_extension": ".py",
   "mimetype": "text/x-python",
   "name": "python",
   "nbconvert_exporter": "python",
   "pygments_lexer": "ipython3",
   "version": "3.6.1"
  }
 },
 "nbformat": 4,
 "nbformat_minor": 2
}
